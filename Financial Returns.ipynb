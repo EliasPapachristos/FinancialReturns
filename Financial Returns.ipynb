{
 "cells": [
  {
   "cell_type": "markdown",
   "metadata": {},
   "source": [
    "# Financial Returns\n",
    "\n",
    "## Calculating Stock Returns in Python\n",
    "\n",
    "### STEP1:\n",
    "\n",
    "Load in stock prices data and store it as a Pandas DataFrame organized by date:"
   ]
  },
  {
   "cell_type": "code",
   "execution_count": 30,
   "metadata": {},
   "outputs": [
    {
     "data": {
      "text/html": [
       "<div>\n",
       "<style scoped>\n",
       "    .dataframe tbody tr th:only-of-type {\n",
       "        vertical-align: middle;\n",
       "    }\n",
       "\n",
       "    .dataframe tbody tr th {\n",
       "        vertical-align: top;\n",
       "    }\n",
       "\n",
       "    .dataframe thead th {\n",
       "        text-align: right;\n",
       "    }\n",
       "</style>\n",
       "<table border=\"1\" class=\"dataframe\">\n",
       "  <thead>\n",
       "    <tr style=\"text-align: right;\">\n",
       "      <th></th>\n",
       "      <th>Open</th>\n",
       "      <th>High</th>\n",
       "      <th>Low</th>\n",
       "      <th>Close</th>\n",
       "      <th>Adj Close</th>\n",
       "      <th>Volume</th>\n",
       "    </tr>\n",
       "    <tr>\n",
       "      <th>Date</th>\n",
       "      <th></th>\n",
       "      <th></th>\n",
       "      <th></th>\n",
       "      <th></th>\n",
       "      <th></th>\n",
       "      <th></th>\n",
       "    </tr>\n",
       "  </thead>\n",
       "  <tbody>\n",
       "    <tr>\n",
       "      <th>2018-06-12</th>\n",
       "      <td>25.170000</td>\n",
       "      <td>25.170000</td>\n",
       "      <td>24.799999</td>\n",
       "      <td>25.070000</td>\n",
       "      <td>25.070000</td>\n",
       "      <td>78300</td>\n",
       "    </tr>\n",
       "    <tr>\n",
       "      <th>2018-06-13</th>\n",
       "      <td>25.030001</td>\n",
       "      <td>25.049999</td>\n",
       "      <td>24.680000</td>\n",
       "      <td>24.690001</td>\n",
       "      <td>24.690001</td>\n",
       "      <td>67000</td>\n",
       "    </tr>\n",
       "    <tr>\n",
       "      <th>2018-06-14</th>\n",
       "      <td>24.790001</td>\n",
       "      <td>24.790001</td>\n",
       "      <td>24.400000</td>\n",
       "      <td>24.559999</td>\n",
       "      <td>24.559999</td>\n",
       "      <td>66200</td>\n",
       "    </tr>\n",
       "    <tr>\n",
       "      <th>2018-06-15</th>\n",
       "      <td>24.530001</td>\n",
       "      <td>24.700001</td>\n",
       "      <td>24.480000</td>\n",
       "      <td>24.639999</td>\n",
       "      <td>24.639999</td>\n",
       "      <td>81800</td>\n",
       "    </tr>\n",
       "    <tr>\n",
       "      <th>2018-06-18</th>\n",
       "      <td>24.639999</td>\n",
       "      <td>24.770000</td>\n",
       "      <td>24.549999</td>\n",
       "      <td>24.600000</td>\n",
       "      <td>24.600000</td>\n",
       "      <td>39200</td>\n",
       "    </tr>\n",
       "  </tbody>\n",
       "</table>\n",
       "</div>"
      ],
      "text/plain": [
       "                 Open       High        Low      Close  Adj Close  Volume\n",
       "Date                                                                     \n",
       "2018-06-12  25.170000  25.170000  24.799999  25.070000  25.070000   78300\n",
       "2018-06-13  25.030001  25.049999  24.680000  24.690001  24.690001   67000\n",
       "2018-06-14  24.790001  24.790001  24.400000  24.559999  24.559999   66200\n",
       "2018-06-15  24.530001  24.700001  24.480000  24.639999  24.639999   81800\n",
       "2018-06-18  24.639999  24.770000  24.549999  24.600000  24.600000   39200"
      ]
     },
     "execution_count": 30,
     "metadata": {},
     "output_type": "execute_result"
    }
   ],
   "source": [
    "import pandas as pd\n",
    "StockPrices = pd.read_csv('D:\\elias\\Jupyter\\StockPrices.csv', parse_dates=['Date'])\n",
    "StockPrices = StockPrices.sort_values(by='Date')\n",
    "StockPrices.set_index('Date', inplace=True)\n",
    "StockPrices.head()"
   ]
  },
  {
   "cell_type": "markdown",
   "metadata": {},
   "source": [
    "### STEP 2:\n",
    "\n",
    "Calculate daily returns of the adjusted close prices and append the returns as a new column in the DataFrame:"
   ]
  },
  {
   "cell_type": "code",
   "execution_count": 28,
   "metadata": {},
   "outputs": [
    {
     "data": {
      "text/plain": [
       "Date\n",
       "2018-06-12         NaN\n",
       "2018-06-13   -0.015158\n",
       "2018-06-14   -0.005265\n",
       "2018-06-15    0.003257\n",
       "2018-06-18   -0.001623\n",
       "Name: Returns, dtype: float64"
      ]
     },
     "execution_count": 28,
     "metadata": {},
     "output_type": "execute_result"
    }
   ],
   "source": [
    "StockPrices['Returns'] = StockPrices['Adj Close'].pct_change()\n",
    "StockPrices['Returns'].head()"
   ]
  },
  {
   "cell_type": "markdown",
   "metadata": {},
   "source": [
    "## Visualizing Return Distributions"
   ]
  },
  {
   "cell_type": "code",
   "execution_count": 29,
   "metadata": {},
   "outputs": [
    {
     "data": {
      "image/png": "[encoded data removed]",
      "text/plain": [
       "<Figure size 432x288 with 1 Axes>"
      ]
     },
     "metadata": {},
     "output_type": "display_data"
    }
   ],
   "source": [
    "import matplotlib.pyplot as plt\n",
    "plt.hist(StockPrices['Returns'].dropna(), bins=75, density=True)\n",
    "plt.show()"
   ]
  },
  {
   "cell_type": "code",
   "execution_count": null,
   "metadata": {},
   "outputs": [],
   "source": []
  }
 ],
 "metadata": {
  "kernelspec": {
   "display_name": "Python 3",
   "language": "python",
   "name": "python3"
  },
  "language_info": {
   "codemirror_mode": {
    "name": "ipython",
    "version": 3
   },
   "file_extension": ".py",
   "mimetype": "text/x-python",
   "name": "python",
   "nbconvert_exporter": "python",
   "pygments_lexer": "ipython3",
   "version": "3.6.5"
  }
 },
 "nbformat": 4,
 "nbformat_minor": 2
}
